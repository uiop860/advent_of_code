{
 "cells": [
  {
   "cell_type": "code",
   "execution_count": 13,
   "metadata": {},
   "outputs": [
    {
     "data": {
      "text/plain": [
       "561"
      ]
     },
     "execution_count": 13,
     "metadata": {},
     "output_type": "execute_result"
    }
   ],
   "source": [
    "from functools import reduce\n",
    "\n",
    "count = 0\n",
    "\n",
    "\n",
    "def is_safe_report(report):\n",
    "    # Calculate the differences between adjacent levels\n",
    "    diffs = [report[i + 1] - report[i] for i in range(len(report) - 1)]\n",
    "\n",
    "    # Check if all differences are within the range [-3, -1] or [1, 3]\n",
    "    if not all(-3 <= diff <= -1 or 1 <= diff <= 3 for diff in diffs):\n",
    "        return False\n",
    "\n",
    "    # Check if the levels are consistently increasing or decreasing\n",
    "    is_increasing = all(diff > 0 for diff in diffs)\n",
    "    is_decreasing = all(diff < 0 for diff in diffs)\n",
    "\n",
    "    return is_increasing or is_decreasing\n",
    "\n",
    "\n",
    "def can_be_safe_with_one_removal(report):\n",
    "    for i in range(len(report)):\n",
    "        # Create a new report with one level removed\n",
    "        modified_report = report[:i] + report[i + 1 :]\n",
    "        if is_safe_report(modified_report):\n",
    "            return True\n",
    "    return False\n",
    "\n",
    "\n",
    "with open(\"./data.txt\") as file:\n",
    "    for line in file:\n",
    "        report = [int(i) for i in line.strip().split(\" \")]\n",
    "\n",
    "        if is_safe_report(report) or can_be_safe_with_one_removal(report):\n",
    "            count += 1\n",
    "count"
   ]
  }
 ],
 "metadata": {
  "kernelspec": {
   "display_name": "Python 3",
   "language": "python",
   "name": "python3"
  },
  "language_info": {
   "codemirror_mode": {
    "name": "ipython",
    "version": 3
   },
   "file_extension": ".py",
   "mimetype": "text/x-python",
   "name": "python",
   "nbconvert_exporter": "python",
   "pygments_lexer": "ipython3",
   "version": "3.12.7"
  }
 },
 "nbformat": 4,
 "nbformat_minor": 2
}
