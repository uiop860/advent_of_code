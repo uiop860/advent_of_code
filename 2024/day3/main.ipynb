{
 "cells": [
  {
   "cell_type": "code",
   "execution_count": 21,
   "metadata": {},
   "outputs": [
    {
     "data": {
      "text/plain": [
       "112272912"
      ]
     },
     "execution_count": 21,
     "metadata": {},
     "output_type": "execute_result"
    }
   ],
   "source": [
    "import re\n",
    "from functools import reduce\n",
    "\n",
    "with open(\"./data.txt\") as file:\n",
    "    all_matches: list[str] = []\n",
    "    for line in file:\n",
    "        line = line.strip()\n",
    "        matches = re.findall(r\"mul\\([0-9]{1,3},[0-9]{1,3}\\)|do\\(\\)|don't\\(\\)\", line)\n",
    "        all_matches.extend(matches)\n",
    "\n",
    "    new_all_matches: list[str] = []\n",
    "\n",
    "    flag = True\n",
    "    for i in all_matches:\n",
    "        if i == \"don't()\":\n",
    "            flag = False\n",
    "        elif i == \"do()\":\n",
    "            flag = True\n",
    "        elif flag == True:\n",
    "            new_all_matches.append(i)\n",
    "\n",
    "    new_all_matches = [i.strip(\"mul(\").strip(\")\").split(\",\") for i in new_all_matches]\n",
    "    new_all_matches = sum(\n",
    "        [reduce(lambda a, b: int(a) * int(b), i) for i in new_all_matches]\n",
    "    )\n",
    "all_matches\n",
    "new_all_matches"
   ]
  }
 ],
 "metadata": {
  "kernelspec": {
   "display_name": "Python 3",
   "language": "python",
   "name": "python3"
  },
  "language_info": {
   "codemirror_mode": {
    "name": "ipython",
    "version": 3
   },
   "file_extension": ".py",
   "mimetype": "text/x-python",
   "name": "python",
   "nbconvert_exporter": "python",
   "pygments_lexer": "ipython3",
   "version": "3.12.7"
  }
 },
 "nbformat": 4,
 "nbformat_minor": 2
}
