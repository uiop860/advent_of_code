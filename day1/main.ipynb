{
 "cells": [
  {
   "cell_type": "markdown",
   "metadata": {},
   "source": [
    "# Day 1\n"
   ]
  },
  {
   "cell_type": "code",
   "execution_count": 17,
   "metadata": {},
   "outputs": [
    {
     "data": {
      "text/plain": [
       "2769675"
      ]
     },
     "execution_count": 17,
     "metadata": {},
     "output_type": "execute_result"
    }
   ],
   "source": [
    "left = []\n",
    "right = []\n",
    "with open(\"./data.txt\") as file:\n",
    "    lines = file.readlines()\n",
    "\n",
    "    for i in lines:\n",
    "        test = i.strip().split(\"   \")\n",
    "        left.append(int(test[0]))\n",
    "        right.append(int(test[1]))\n",
    "\n",
    "    left.sort()\n",
    "    right.sort()\n",
    "\n",
    "total_distance = 0\n",
    "for i in zip(left, right):\n",
    "    total_distance += abs(i[0] - i[1])\n",
    "\n",
    "total_distance"
   ]
  }
 ],
 "metadata": {
  "kernelspec": {
   "display_name": "Python 3",
   "language": "python",
   "name": "python3"
  },
  "language_info": {
   "codemirror_mode": {
    "name": "ipython",
    "version": 3
   },
   "file_extension": ".py",
   "mimetype": "text/x-python",
   "name": "python",
   "nbconvert_exporter": "python",
   "pygments_lexer": "ipython3",
   "version": "3.12.7"
  }
 },
 "nbformat": 4,
 "nbformat_minor": 2
}
